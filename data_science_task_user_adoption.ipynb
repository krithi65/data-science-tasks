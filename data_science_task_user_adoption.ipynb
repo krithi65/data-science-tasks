{
  "nbformat": 4,
  "nbformat_minor": 0,
  "metadata": {
    "colab": {
      "name": "data science task-user_adoption.ipynb",
      "provenance": [],
      "authorship_tag": "ABX9TyPt5fAeKEo+e8BYl7bKfzRa",
      "include_colab_link": true
    },
    "kernelspec": {
      "name": "python3",
      "display_name": "Python 3"
    },
    "language_info": {
      "name": "python"
    }
  },
  "cells": [
    {
      "cell_type": "markdown",
      "metadata": {
        "id": "view-in-github",
        "colab_type": "text"
      },
      "source": [
        "<a href=\"https://colab.research.google.com/github/krithi65/data-science-tasks/blob/main/data_science_task_user_adoption.ipynb\" target=\"_parent\"><img src=\"https://colab.research.google.com/assets/colab-badge.svg\" alt=\"Open In Colab\"/></a>"
      ]
    },
    {
      "cell_type": "markdown",
      "source": [
        ""
      ],
      "metadata": {
        "id": "LTZzC45xC_lZ"
      }
    },
    {
      "cell_type": "markdown",
      "source": [
        "The data is available as two attached CSV files:\n",
        "takehome_user_engagement. csv\n",
        "takehome_users . csv\n",
        "The data has the following two tables:\n",
        "1] A user table ( \"takehome_users\" ) with data on 12,000 users who signed up for the\n",
        "product in the last two years. This table includes:\n",
        "● name: the user's name\n",
        "● object_id: the user's id\n",
        "● email: email address\n",
        "● creation_source: how their account was created. This takes on one\n",
        "of 5 values:\n",
        "○ PERSONAL_PROJECTS: invited to join another user's\n",
        "personal workspace\n",
        "○ GUEST_INVITE: invited to an organization as a guest\n",
        "(limited permissions)\n",
        "○ ORG_INVITE: invited to an organization (as a full member)\n",
        "○ SIGNUP: signed up via the website\n",
        "○ SIGNUP_GOOGLE_AUTH: signed up using Google\n",
        "Authentication (using a Google email account for their login\n",
        "id)\n",
        "\n",
        "● creation_time: when they created their account\n",
        "● last_session_creation_time: unix timestamp of last login\n",
        "● opted_in_to_mailing_list: whether they have opted into receiving\n",
        "marketing emails\n",
        "● enabled_for_marketing_drip: whether they are on the regular\n",
        "marketing email drip\n",
        "● org_id: the organization (group of users) they belong to\n",
        "● invited_by_user_id: which user invited them to join (if applicable).\n",
        "2] A usage summary table ( \"takehome_user_engagement\" ) that has a row for each day\n",
        "that a user logged into the product.\n",
        "\n",
        "Defining an \"adopted user\" as a user who has logged into the product on three separate\n",
        "days in at least one seven­day period , identify which factors predict future user\n",
        "adoption ."
      ],
      "metadata": {
        "id": "Mwu39dv6C0lq"
      }
    },
    {
      "cell_type": "code",
      "source": [
        "#let first import the libraries from python package\n",
        "import numpy as np\n",
        "import pandas as pd\n",
        "import matplotlib.pyplot as plt"
      ],
      "metadata": {
        "id": "xL6EM-ZPDHzm"
      },
      "execution_count": 2,
      "outputs": []
    },
    {
      "cell_type": "markdown",
      "source": [
        "target-visited column and features-11 columns"
      ],
      "metadata": {
        "id": "Lqe1h4zxEbAj"
      }
    },
    {
      "cell_type": "code",
      "source": [
        "#import data set from takehome_users\n",
        "df1=pd.read_csv(\"/content/takehome_users.csv\",encoding='ISO-8859-1')\n",
        "df1.head()\n"
      ],
      "metadata": {
        "colab": {
          "base_uri": "https://localhost:8080/",
          "height": 357
        },
        "id": "FSif98IKDbr4",
        "outputId": "e5664317-1c6c-4d89-ada1-790c393695d7"
      },
      "execution_count": 3,
      "outputs": [
        {
          "output_type": "execute_result",
          "data": {
            "text/plain": [
              "   object_id        creation_time               name  \\\n",
              "0          1  2014-04-22 03:53:30     Clausen August   \n",
              "1          2  2013-11-15 03:45:04      Poole Matthew   \n",
              "2          3  2013-03-19 23:14:52  Bottrill Mitchell   \n",
              "3          4  2013-05-21 08:09:28    Clausen Nicklas   \n",
              "4          5  2013-01-17 10:14:20          Raw Grace   \n",
              "\n",
              "                        email creation_source  last_session_creation_time  \\\n",
              "0    AugustCClausen@yahoo.com    GUEST_INVITE                1.398139e+09   \n",
              "1      MatthewPoole@gustr.com      ORG_INVITE                1.396238e+09   \n",
              "2  MitchellBottrill@gustr.com      ORG_INVITE                1.363735e+09   \n",
              "3   NicklasSClausen@yahoo.com    GUEST_INVITE                1.369210e+09   \n",
              "4          GraceRaw@yahoo.com    GUEST_INVITE                1.358850e+09   \n",
              "\n",
              "   opted_in_to_mailing_list  enabled_for_marketing_drip  org_id  \\\n",
              "0                         1                           0      11   \n",
              "1                         0                           0       1   \n",
              "2                         0                           0      94   \n",
              "3                         0                           0       1   \n",
              "4                         0                           0     193   \n",
              "\n",
              "   invited_by_user_id  \n",
              "0             10803.0  \n",
              "1               316.0  \n",
              "2              1525.0  \n",
              "3              5151.0  \n",
              "4              5240.0  "
            ],
            "text/html": [
              "\n",
              "  <div id=\"df-42db3289-da5f-4479-a489-23411c83a5cf\">\n",
              "    <div class=\"colab-df-container\">\n",
              "      <div>\n",
              "<style scoped>\n",
              "    .dataframe tbody tr th:only-of-type {\n",
              "        vertical-align: middle;\n",
              "    }\n",
              "\n",
              "    .dataframe tbody tr th {\n",
              "        vertical-align: top;\n",
              "    }\n",
              "\n",
              "    .dataframe thead th {\n",
              "        text-align: right;\n",
              "    }\n",
              "</style>\n",
              "<table border=\"1\" class=\"dataframe\">\n",
              "  <thead>\n",
              "    <tr style=\"text-align: right;\">\n",
              "      <th></th>\n",
              "      <th>object_id</th>\n",
              "      <th>creation_time</th>\n",
              "      <th>name</th>\n",
              "      <th>email</th>\n",
              "      <th>creation_source</th>\n",
              "      <th>last_session_creation_time</th>\n",
              "      <th>opted_in_to_mailing_list</th>\n",
              "      <th>enabled_for_marketing_drip</th>\n",
              "      <th>org_id</th>\n",
              "      <th>invited_by_user_id</th>\n",
              "    </tr>\n",
              "  </thead>\n",
              "  <tbody>\n",
              "    <tr>\n",
              "      <th>0</th>\n",
              "      <td>1</td>\n",
              "      <td>2014-04-22 03:53:30</td>\n",
              "      <td>Clausen August</td>\n",
              "      <td>AugustCClausen@yahoo.com</td>\n",
              "      <td>GUEST_INVITE</td>\n",
              "      <td>1.398139e+09</td>\n",
              "      <td>1</td>\n",
              "      <td>0</td>\n",
              "      <td>11</td>\n",
              "      <td>10803.0</td>\n",
              "    </tr>\n",
              "    <tr>\n",
              "      <th>1</th>\n",
              "      <td>2</td>\n",
              "      <td>2013-11-15 03:45:04</td>\n",
              "      <td>Poole Matthew</td>\n",
              "      <td>MatthewPoole@gustr.com</td>\n",
              "      <td>ORG_INVITE</td>\n",
              "      <td>1.396238e+09</td>\n",
              "      <td>0</td>\n",
              "      <td>0</td>\n",
              "      <td>1</td>\n",
              "      <td>316.0</td>\n",
              "    </tr>\n",
              "    <tr>\n",
              "      <th>2</th>\n",
              "      <td>3</td>\n",
              "      <td>2013-03-19 23:14:52</td>\n",
              "      <td>Bottrill Mitchell</td>\n",
              "      <td>MitchellBottrill@gustr.com</td>\n",
              "      <td>ORG_INVITE</td>\n",
              "      <td>1.363735e+09</td>\n",
              "      <td>0</td>\n",
              "      <td>0</td>\n",
              "      <td>94</td>\n",
              "      <td>1525.0</td>\n",
              "    </tr>\n",
              "    <tr>\n",
              "      <th>3</th>\n",
              "      <td>4</td>\n",
              "      <td>2013-05-21 08:09:28</td>\n",
              "      <td>Clausen Nicklas</td>\n",
              "      <td>NicklasSClausen@yahoo.com</td>\n",
              "      <td>GUEST_INVITE</td>\n",
              "      <td>1.369210e+09</td>\n",
              "      <td>0</td>\n",
              "      <td>0</td>\n",
              "      <td>1</td>\n",
              "      <td>5151.0</td>\n",
              "    </tr>\n",
              "    <tr>\n",
              "      <th>4</th>\n",
              "      <td>5</td>\n",
              "      <td>2013-01-17 10:14:20</td>\n",
              "      <td>Raw Grace</td>\n",
              "      <td>GraceRaw@yahoo.com</td>\n",
              "      <td>GUEST_INVITE</td>\n",
              "      <td>1.358850e+09</td>\n",
              "      <td>0</td>\n",
              "      <td>0</td>\n",
              "      <td>193</td>\n",
              "      <td>5240.0</td>\n",
              "    </tr>\n",
              "  </tbody>\n",
              "</table>\n",
              "</div>\n",
              "      <button class=\"colab-df-convert\" onclick=\"convertToInteractive('df-42db3289-da5f-4479-a489-23411c83a5cf')\"\n",
              "              title=\"Convert this dataframe to an interactive table.\"\n",
              "              style=\"display:none;\">\n",
              "        \n",
              "  <svg xmlns=\"http://www.w3.org/2000/svg\" height=\"24px\"viewBox=\"0 0 24 24\"\n",
              "       width=\"24px\">\n",
              "    <path d=\"M0 0h24v24H0V0z\" fill=\"none\"/>\n",
              "    <path d=\"M18.56 5.44l.94 2.06.94-2.06 2.06-.94-2.06-.94-.94-2.06-.94 2.06-2.06.94zm-11 1L8.5 8.5l.94-2.06 2.06-.94-2.06-.94L8.5 2.5l-.94 2.06-2.06.94zm10 10l.94 2.06.94-2.06 2.06-.94-2.06-.94-.94-2.06-.94 2.06-2.06.94z\"/><path d=\"M17.41 7.96l-1.37-1.37c-.4-.4-.92-.59-1.43-.59-.52 0-1.04.2-1.43.59L10.3 9.45l-7.72 7.72c-.78.78-.78 2.05 0 2.83L4 21.41c.39.39.9.59 1.41.59.51 0 1.02-.2 1.41-.59l7.78-7.78 2.81-2.81c.8-.78.8-2.07 0-2.86zM5.41 20L4 18.59l7.72-7.72 1.47 1.35L5.41 20z\"/>\n",
              "  </svg>\n",
              "      </button>\n",
              "      \n",
              "  <style>\n",
              "    .colab-df-container {\n",
              "      display:flex;\n",
              "      flex-wrap:wrap;\n",
              "      gap: 12px;\n",
              "    }\n",
              "\n",
              "    .colab-df-convert {\n",
              "      background-color: #E8F0FE;\n",
              "      border: none;\n",
              "      border-radius: 50%;\n",
              "      cursor: pointer;\n",
              "      display: none;\n",
              "      fill: #1967D2;\n",
              "      height: 32px;\n",
              "      padding: 0 0 0 0;\n",
              "      width: 32px;\n",
              "    }\n",
              "\n",
              "    .colab-df-convert:hover {\n",
              "      background-color: #E2EBFA;\n",
              "      box-shadow: 0px 1px 2px rgba(60, 64, 67, 0.3), 0px 1px 3px 1px rgba(60, 64, 67, 0.15);\n",
              "      fill: #174EA6;\n",
              "    }\n",
              "\n",
              "    [theme=dark] .colab-df-convert {\n",
              "      background-color: #3B4455;\n",
              "      fill: #D2E3FC;\n",
              "    }\n",
              "\n",
              "    [theme=dark] .colab-df-convert:hover {\n",
              "      background-color: #434B5C;\n",
              "      box-shadow: 0px 1px 3px 1px rgba(0, 0, 0, 0.15);\n",
              "      filter: drop-shadow(0px 1px 2px rgba(0, 0, 0, 0.3));\n",
              "      fill: #FFFFFF;\n",
              "    }\n",
              "  </style>\n",
              "\n",
              "      <script>\n",
              "        const buttonEl =\n",
              "          document.querySelector('#df-42db3289-da5f-4479-a489-23411c83a5cf button.colab-df-convert');\n",
              "        buttonEl.style.display =\n",
              "          google.colab.kernel.accessAllowed ? 'block' : 'none';\n",
              "\n",
              "        async function convertToInteractive(key) {\n",
              "          const element = document.querySelector('#df-42db3289-da5f-4479-a489-23411c83a5cf');\n",
              "          const dataTable =\n",
              "            await google.colab.kernel.invokeFunction('convertToInteractive',\n",
              "                                                     [key], {});\n",
              "          if (!dataTable) return;\n",
              "\n",
              "          const docLinkHtml = 'Like what you see? Visit the ' +\n",
              "            '<a target=\"_blank\" href=https://colab.research.google.com/notebooks/data_table.ipynb>data table notebook</a>'\n",
              "            + ' to learn more about interactive tables.';\n",
              "          element.innerHTML = '';\n",
              "          dataTable['output_type'] = 'display_data';\n",
              "          await google.colab.output.renderOutput(dataTable, element);\n",
              "          const docLink = document.createElement('div');\n",
              "          docLink.innerHTML = docLinkHtml;\n",
              "          element.appendChild(docLink);\n",
              "        }\n",
              "      </script>\n",
              "    </div>\n",
              "  </div>\n",
              "  "
            ]
          },
          "metadata": {},
          "execution_count": 3
        }
      ]
    },
    {
      "cell_type": "code",
      "source": [
        "df1.shape"
      ],
      "metadata": {
        "colab": {
          "base_uri": "https://localhost:8080/"
        },
        "id": "DdWK3JNEFTa4",
        "outputId": "c9867b80-452a-45ff-a4c7-b4c8dd08a85c"
      },
      "execution_count": 5,
      "outputs": [
        {
          "output_type": "execute_result",
          "data": {
            "text/plain": [
              "(12000, 10)"
            ]
          },
          "metadata": {},
          "execution_count": 5
        }
      ]
    },
    {
      "cell_type": "code",
      "source": [
        "df1.isnull().sum()"
      ],
      "metadata": {
        "colab": {
          "base_uri": "https://localhost:8080/"
        },
        "id": "Fa_lfBqCGUaP",
        "outputId": "4566c653-7bcb-4a79-874f-987a83de3479"
      },
      "execution_count": 4,
      "outputs": [
        {
          "output_type": "execute_result",
          "data": {
            "text/plain": [
              "object_id                        0\n",
              "creation_time                    0\n",
              "name                             0\n",
              "email                            0\n",
              "creation_source                  0\n",
              "last_session_creation_time    3177\n",
              "opted_in_to_mailing_list         0\n",
              "enabled_for_marketing_drip       0\n",
              "org_id                           0\n",
              "invited_by_user_id            5583\n",
              "dtype: int64"
            ]
          },
          "metadata": {},
          "execution_count": 4
        }
      ]
    },
    {
      "cell_type": "code",
      "source": [
        "df2=pd.read_csv(\"/content/takehome_user_engagement.csv\")\n",
        "df2.head()"
      ],
      "metadata": {
        "colab": {
          "base_uri": "https://localhost:8080/",
          "height": 206
        },
        "id": "7k-bu9jRG8fB",
        "outputId": "8415cba8-bcbb-498d-e910-1450b27535e3"
      },
      "execution_count": 6,
      "outputs": [
        {
          "output_type": "execute_result",
          "data": {
            "text/plain": [
              "            time_stamp  user_id  visited\n",
              "0  2014-04-22 03:53:30        1        1\n",
              "1  2013-11-15 03:45:04        2        1\n",
              "2  2013-11-29 03:45:04        2        1\n",
              "3  2013-12-09 03:45:04        2        1\n",
              "4  2013-12-25 03:45:04        2        1"
            ],
            "text/html": [
              "\n",
              "  <div id=\"df-3f295d4b-e996-4270-9770-9cdfd61b39cd\">\n",
              "    <div class=\"colab-df-container\">\n",
              "      <div>\n",
              "<style scoped>\n",
              "    .dataframe tbody tr th:only-of-type {\n",
              "        vertical-align: middle;\n",
              "    }\n",
              "\n",
              "    .dataframe tbody tr th {\n",
              "        vertical-align: top;\n",
              "    }\n",
              "\n",
              "    .dataframe thead th {\n",
              "        text-align: right;\n",
              "    }\n",
              "</style>\n",
              "<table border=\"1\" class=\"dataframe\">\n",
              "  <thead>\n",
              "    <tr style=\"text-align: right;\">\n",
              "      <th></th>\n",
              "      <th>time_stamp</th>\n",
              "      <th>user_id</th>\n",
              "      <th>visited</th>\n",
              "    </tr>\n",
              "  </thead>\n",
              "  <tbody>\n",
              "    <tr>\n",
              "      <th>0</th>\n",
              "      <td>2014-04-22 03:53:30</td>\n",
              "      <td>1</td>\n",
              "      <td>1</td>\n",
              "    </tr>\n",
              "    <tr>\n",
              "      <th>1</th>\n",
              "      <td>2013-11-15 03:45:04</td>\n",
              "      <td>2</td>\n",
              "      <td>1</td>\n",
              "    </tr>\n",
              "    <tr>\n",
              "      <th>2</th>\n",
              "      <td>2013-11-29 03:45:04</td>\n",
              "      <td>2</td>\n",
              "      <td>1</td>\n",
              "    </tr>\n",
              "    <tr>\n",
              "      <th>3</th>\n",
              "      <td>2013-12-09 03:45:04</td>\n",
              "      <td>2</td>\n",
              "      <td>1</td>\n",
              "    </tr>\n",
              "    <tr>\n",
              "      <th>4</th>\n",
              "      <td>2013-12-25 03:45:04</td>\n",
              "      <td>2</td>\n",
              "      <td>1</td>\n",
              "    </tr>\n",
              "  </tbody>\n",
              "</table>\n",
              "</div>\n",
              "      <button class=\"colab-df-convert\" onclick=\"convertToInteractive('df-3f295d4b-e996-4270-9770-9cdfd61b39cd')\"\n",
              "              title=\"Convert this dataframe to an interactive table.\"\n",
              "              style=\"display:none;\">\n",
              "        \n",
              "  <svg xmlns=\"http://www.w3.org/2000/svg\" height=\"24px\"viewBox=\"0 0 24 24\"\n",
              "       width=\"24px\">\n",
              "    <path d=\"M0 0h24v24H0V0z\" fill=\"none\"/>\n",
              "    <path d=\"M18.56 5.44l.94 2.06.94-2.06 2.06-.94-2.06-.94-.94-2.06-.94 2.06-2.06.94zm-11 1L8.5 8.5l.94-2.06 2.06-.94-2.06-.94L8.5 2.5l-.94 2.06-2.06.94zm10 10l.94 2.06.94-2.06 2.06-.94-2.06-.94-.94-2.06-.94 2.06-2.06.94z\"/><path d=\"M17.41 7.96l-1.37-1.37c-.4-.4-.92-.59-1.43-.59-.52 0-1.04.2-1.43.59L10.3 9.45l-7.72 7.72c-.78.78-.78 2.05 0 2.83L4 21.41c.39.39.9.59 1.41.59.51 0 1.02-.2 1.41-.59l7.78-7.78 2.81-2.81c.8-.78.8-2.07 0-2.86zM5.41 20L4 18.59l7.72-7.72 1.47 1.35L5.41 20z\"/>\n",
              "  </svg>\n",
              "      </button>\n",
              "      \n",
              "  <style>\n",
              "    .colab-df-container {\n",
              "      display:flex;\n",
              "      flex-wrap:wrap;\n",
              "      gap: 12px;\n",
              "    }\n",
              "\n",
              "    .colab-df-convert {\n",
              "      background-color: #E8F0FE;\n",
              "      border: none;\n",
              "      border-radius: 50%;\n",
              "      cursor: pointer;\n",
              "      display: none;\n",
              "      fill: #1967D2;\n",
              "      height: 32px;\n",
              "      padding: 0 0 0 0;\n",
              "      width: 32px;\n",
              "    }\n",
              "\n",
              "    .colab-df-convert:hover {\n",
              "      background-color: #E2EBFA;\n",
              "      box-shadow: 0px 1px 2px rgba(60, 64, 67, 0.3), 0px 1px 3px 1px rgba(60, 64, 67, 0.15);\n",
              "      fill: #174EA6;\n",
              "    }\n",
              "\n",
              "    [theme=dark] .colab-df-convert {\n",
              "      background-color: #3B4455;\n",
              "      fill: #D2E3FC;\n",
              "    }\n",
              "\n",
              "    [theme=dark] .colab-df-convert:hover {\n",
              "      background-color: #434B5C;\n",
              "      box-shadow: 0px 1px 3px 1px rgba(0, 0, 0, 0.15);\n",
              "      filter: drop-shadow(0px 1px 2px rgba(0, 0, 0, 0.3));\n",
              "      fill: #FFFFFF;\n",
              "    }\n",
              "  </style>\n",
              "\n",
              "      <script>\n",
              "        const buttonEl =\n",
              "          document.querySelector('#df-3f295d4b-e996-4270-9770-9cdfd61b39cd button.colab-df-convert');\n",
              "        buttonEl.style.display =\n",
              "          google.colab.kernel.accessAllowed ? 'block' : 'none';\n",
              "\n",
              "        async function convertToInteractive(key) {\n",
              "          const element = document.querySelector('#df-3f295d4b-e996-4270-9770-9cdfd61b39cd');\n",
              "          const dataTable =\n",
              "            await google.colab.kernel.invokeFunction('convertToInteractive',\n",
              "                                                     [key], {});\n",
              "          if (!dataTable) return;\n",
              "\n",
              "          const docLinkHtml = 'Like what you see? Visit the ' +\n",
              "            '<a target=\"_blank\" href=https://colab.research.google.com/notebooks/data_table.ipynb>data table notebook</a>'\n",
              "            + ' to learn more about interactive tables.';\n",
              "          element.innerHTML = '';\n",
              "          dataTable['output_type'] = 'display_data';\n",
              "          await google.colab.output.renderOutput(dataTable, element);\n",
              "          const docLink = document.createElement('div');\n",
              "          docLink.innerHTML = docLinkHtml;\n",
              "          element.appendChild(docLink);\n",
              "        }\n",
              "      </script>\n",
              "    </div>\n",
              "  </div>\n",
              "  "
            ]
          },
          "metadata": {},
          "execution_count": 6
        }
      ]
    },
    {
      "cell_type": "code",
      "source": [
        "data = pd.merge(df1, df2 ,left_on='object_id' , right_on='user_id')\n",
        "data.head(2)\n",
        "data.columns"
      ],
      "metadata": {
        "colab": {
          "base_uri": "https://localhost:8080/"
        },
        "id": "f5g01iu_H0Hu",
        "outputId": "12a9e3b6-b710-4de5-b695-a2c4cb24e7f3"
      },
      "execution_count": 7,
      "outputs": [
        {
          "output_type": "execute_result",
          "data": {
            "text/plain": [
              "Index(['object_id', 'creation_time', 'name', 'email', 'creation_source',\n",
              "       'last_session_creation_time', 'opted_in_to_mailing_list',\n",
              "       'enabled_for_marketing_drip', 'org_id', 'invited_by_user_id',\n",
              "       'time_stamp', 'user_id', 'visited'],\n",
              "      dtype='object')"
            ]
          },
          "metadata": {},
          "execution_count": 7
        }
      ]
    },
    {
      "cell_type": "code",
      "source": [
        "data.info()"
      ],
      "metadata": {
        "colab": {
          "base_uri": "https://localhost:8080/"
        },
        "id": "IwLPv1FAFdRx",
        "outputId": "41d93b30-6805-4bf2-9067-0453ced33f63"
      },
      "execution_count": 28,
      "outputs": [
        {
          "output_type": "stream",
          "name": "stdout",
          "text": [
            "<class 'pandas.core.frame.DataFrame'>\n",
            "Int64Index: 207917 entries, 0 to 207916\n",
            "Data columns (total 17 columns):\n",
            " #   Column                      Non-Null Count   Dtype         \n",
            "---  ------                      --------------   -----         \n",
            " 0   object_id                   207917 non-null  int64         \n",
            " 1   creation_time               207917 non-null  object        \n",
            " 2   name                        207917 non-null  object        \n",
            " 3   email                       207917 non-null  object        \n",
            " 4   creation_source             207917 non-null  object        \n",
            " 5   last_session_creation_time  207917 non-null  float64       \n",
            " 6   opted_in_to_mailing_list    207917 non-null  int64         \n",
            " 7   enabled_for_marketing_drip  207917 non-null  int64         \n",
            " 8   org_id                      207917 non-null  int64         \n",
            " 9   invited_by_user_id          116887 non-null  float64       \n",
            " 10  time_stamp                  207917 non-null  object        \n",
            " 11  user_id                     207917 non-null  int64         \n",
            " 12  visited                     207917 non-null  int64         \n",
            " 13  date                        207917 non-null  datetime64[ns]\n",
            " 14  week                        207917 non-null  UInt32        \n",
            " 15  year                        207917 non-null  UInt32        \n",
            " 16  month                       207917 non-null  int64         \n",
            "dtypes: UInt32(2), datetime64[ns](1), float64(2), int64(7), object(5)\n",
            "memory usage: 27.4+ MB\n"
          ]
        }
      ]
    },
    {
      "cell_type": "code",
      "source": [
        "data.dtypes"
      ],
      "metadata": {
        "colab": {
          "base_uri": "https://localhost:8080/"
        },
        "id": "2RxVDMbEEGQs",
        "outputId": "251360e7-8ea9-45f3-b3ee-c6225ce3f4ee"
      },
      "execution_count": 26,
      "outputs": [
        {
          "output_type": "execute_result",
          "data": {
            "text/plain": [
              "object_id                              int64\n",
              "creation_time                         object\n",
              "name                                  object\n",
              "email                                 object\n",
              "creation_source                       object\n",
              "last_session_creation_time           float64\n",
              "opted_in_to_mailing_list               int64\n",
              "enabled_for_marketing_drip             int64\n",
              "org_id                                 int64\n",
              "invited_by_user_id                   float64\n",
              "time_stamp                            object\n",
              "user_id                                int64\n",
              "visited                                int64\n",
              "date                          datetime64[ns]\n",
              "week                                  UInt32\n",
              "year                                  UInt32\n",
              "month                                  int64\n",
              "dtype: object"
            ]
          },
          "metadata": {},
          "execution_count": 26
        }
      ]
    },
    {
      "cell_type": "code",
      "source": [
        "data.isnull().sum()"
      ],
      "metadata": {
        "colab": {
          "base_uri": "https://localhost:8080/"
        },
        "id": "UPIQiUoqD2Ek",
        "outputId": "6dc84b9f-c612-45c6-d04b-a555fd0e9ff8"
      },
      "execution_count": 24,
      "outputs": [
        {
          "output_type": "execute_result",
          "data": {
            "text/plain": [
              "object_id                         0\n",
              "creation_time                     0\n",
              "name                              0\n",
              "email                             0\n",
              "creation_source                   0\n",
              "last_session_creation_time        0\n",
              "opted_in_to_mailing_list          0\n",
              "enabled_for_marketing_drip        0\n",
              "org_id                            0\n",
              "invited_by_user_id            91030\n",
              "time_stamp                        0\n",
              "user_id                           0\n",
              "visited                           0\n",
              "date                              0\n",
              "week                              0\n",
              "year                              0\n",
              "month                             0\n",
              "dtype: int64"
            ]
          },
          "metadata": {},
          "execution_count": 24
        }
      ]
    },
    {
      "cell_type": "markdown",
      "source": [
        "there is no nullobjects .so data is cleaned "
      ],
      "metadata": {
        "id": "ZNDLHAt9IkR1"
      }
    },
    {
      "cell_type": "code",
      "source": [
        "# creating time stamp and extract data from time stamp\n",
        "data['date'] = data['time_stamp'].astype('datetime64')\n",
        "data['week'] = data['date'].dt.isocalendar().week\n",
        "data['year'] = data['date'].dt.isocalendar().year\n",
        "data['month'] =data['date'].dt.month\n"
      ],
      "metadata": {
        "id": "tBLa-5Q7JUei"
      },
      "execution_count": 8,
      "outputs": []
    },
    {
      "cell_type": "markdown",
      "source": [
        "grouping data with group_by \n",
        "user id and org id  to make it clear"
      ],
      "metadata": {
        "id": "X1jKlr9lGMb-"
      }
    },
    {
      "cell_type": "code",
      "source": [
        "#group required data with month,year,week\n",
        "grouped_data=data.groupby(['user_id','org_id','year' ,'month', 'week' , 'visited']).size()\n",
        "df3 = grouped_data.to_frame(name = 'weekly_visited').reset_index()\n",
        "print(df3.info)"
      ],
      "metadata": {
        "colab": {
          "base_uri": "https://localhost:8080/"
        },
        "id": "EmLJoaa5KoTx",
        "outputId": "f5425c10-f9f7-4ab7-9dbe-1c8165f35bb4"
      },
      "execution_count": 9,
      "outputs": [
        {
          "output_type": "stream",
          "name": "stdout",
          "text": [
            "<bound method DataFrame.info of        user_id  org_id  year  month  week  visited  weekly_visited\n",
            "0            1      11  2014      4    17        1               1\n",
            "1            2       1  2013     11    46        1               1\n",
            "2            2       1  2013     11    48        1               1\n",
            "3            2       1  2013     12    50        1               1\n",
            "4            2       1  2013     12    52        1               1\n",
            "...        ...     ...   ...    ...   ...      ...             ...\n",
            "75928    11996      89  2013      9    36        1               1\n",
            "75929    11997     200  2013      1     3        1               1\n",
            "75930    11998      83  2014      4    17        1               1\n",
            "75931    11999       6  2012      6    22        1               1\n",
            "75932    12000       0  2014      1     4        1               1\n",
            "\n",
            "[75933 rows x 7 columns]>\n"
          ]
        }
      ]
    },
    {
      "cell_type": "code",
      "source": [
        "#Filtering the \"weekly_visit\" by 3 or more times of visit\n",
        "more_three = df3[df3['weekly_visited'] >= 3]\n",
        "more_three"
      ],
      "metadata": {
        "colab": {
          "base_uri": "https://localhost:8080/",
          "height": 424
        },
        "id": "zeJk4tF5N0ib",
        "outputId": "ea57a4e9-16cf-4c0b-975d-6051d87c82fa"
      },
      "execution_count": 10,
      "outputs": [
        {
          "output_type": "execute_result",
          "data": {
            "text/plain": [
              "       user_id  org_id  year  month  week  visited  weekly_visited\n",
              "6            2       1  2014      2     6        1               3\n",
              "30          10     318  2013      4    15        1               3\n",
              "32          10     318  2013      4    17        1               3\n",
              "34          10     318  2013      5    18        1               3\n",
              "35          10     318  2013      5    19        1               5\n",
              "...        ...     ...   ...    ...   ...      ...             ...\n",
              "75886    11975      31  2014      5    21        1               3\n",
              "75905    11988     114  2014      3    12        1               4\n",
              "75912    11988     114  2014      4    18        1               3\n",
              "75915    11988     114  2014      5    20        1               3\n",
              "75916    11988     114  2014      5    21        1               5\n",
              "\n",
              "[32754 rows x 7 columns]"
            ],
            "text/html": [
              "\n",
              "  <div id=\"df-86b9f93c-335b-4045-9f64-ff7c13182776\">\n",
              "    <div class=\"colab-df-container\">\n",
              "      <div>\n",
              "<style scoped>\n",
              "    .dataframe tbody tr th:only-of-type {\n",
              "        vertical-align: middle;\n",
              "    }\n",
              "\n",
              "    .dataframe tbody tr th {\n",
              "        vertical-align: top;\n",
              "    }\n",
              "\n",
              "    .dataframe thead th {\n",
              "        text-align: right;\n",
              "    }\n",
              "</style>\n",
              "<table border=\"1\" class=\"dataframe\">\n",
              "  <thead>\n",
              "    <tr style=\"text-align: right;\">\n",
              "      <th></th>\n",
              "      <th>user_id</th>\n",
              "      <th>org_id</th>\n",
              "      <th>year</th>\n",
              "      <th>month</th>\n",
              "      <th>week</th>\n",
              "      <th>visited</th>\n",
              "      <th>weekly_visited</th>\n",
              "    </tr>\n",
              "  </thead>\n",
              "  <tbody>\n",
              "    <tr>\n",
              "      <th>6</th>\n",
              "      <td>2</td>\n",
              "      <td>1</td>\n",
              "      <td>2014</td>\n",
              "      <td>2</td>\n",
              "      <td>6</td>\n",
              "      <td>1</td>\n",
              "      <td>3</td>\n",
              "    </tr>\n",
              "    <tr>\n",
              "      <th>30</th>\n",
              "      <td>10</td>\n",
              "      <td>318</td>\n",
              "      <td>2013</td>\n",
              "      <td>4</td>\n",
              "      <td>15</td>\n",
              "      <td>1</td>\n",
              "      <td>3</td>\n",
              "    </tr>\n",
              "    <tr>\n",
              "      <th>32</th>\n",
              "      <td>10</td>\n",
              "      <td>318</td>\n",
              "      <td>2013</td>\n",
              "      <td>4</td>\n",
              "      <td>17</td>\n",
              "      <td>1</td>\n",
              "      <td>3</td>\n",
              "    </tr>\n",
              "    <tr>\n",
              "      <th>34</th>\n",
              "      <td>10</td>\n",
              "      <td>318</td>\n",
              "      <td>2013</td>\n",
              "      <td>5</td>\n",
              "      <td>18</td>\n",
              "      <td>1</td>\n",
              "      <td>3</td>\n",
              "    </tr>\n",
              "    <tr>\n",
              "      <th>35</th>\n",
              "      <td>10</td>\n",
              "      <td>318</td>\n",
              "      <td>2013</td>\n",
              "      <td>5</td>\n",
              "      <td>19</td>\n",
              "      <td>1</td>\n",
              "      <td>5</td>\n",
              "    </tr>\n",
              "    <tr>\n",
              "      <th>...</th>\n",
              "      <td>...</td>\n",
              "      <td>...</td>\n",
              "      <td>...</td>\n",
              "      <td>...</td>\n",
              "      <td>...</td>\n",
              "      <td>...</td>\n",
              "      <td>...</td>\n",
              "    </tr>\n",
              "    <tr>\n",
              "      <th>75886</th>\n",
              "      <td>11975</td>\n",
              "      <td>31</td>\n",
              "      <td>2014</td>\n",
              "      <td>5</td>\n",
              "      <td>21</td>\n",
              "      <td>1</td>\n",
              "      <td>3</td>\n",
              "    </tr>\n",
              "    <tr>\n",
              "      <th>75905</th>\n",
              "      <td>11988</td>\n",
              "      <td>114</td>\n",
              "      <td>2014</td>\n",
              "      <td>3</td>\n",
              "      <td>12</td>\n",
              "      <td>1</td>\n",
              "      <td>4</td>\n",
              "    </tr>\n",
              "    <tr>\n",
              "      <th>75912</th>\n",
              "      <td>11988</td>\n",
              "      <td>114</td>\n",
              "      <td>2014</td>\n",
              "      <td>4</td>\n",
              "      <td>18</td>\n",
              "      <td>1</td>\n",
              "      <td>3</td>\n",
              "    </tr>\n",
              "    <tr>\n",
              "      <th>75915</th>\n",
              "      <td>11988</td>\n",
              "      <td>114</td>\n",
              "      <td>2014</td>\n",
              "      <td>5</td>\n",
              "      <td>20</td>\n",
              "      <td>1</td>\n",
              "      <td>3</td>\n",
              "    </tr>\n",
              "    <tr>\n",
              "      <th>75916</th>\n",
              "      <td>11988</td>\n",
              "      <td>114</td>\n",
              "      <td>2014</td>\n",
              "      <td>5</td>\n",
              "      <td>21</td>\n",
              "      <td>1</td>\n",
              "      <td>5</td>\n",
              "    </tr>\n",
              "  </tbody>\n",
              "</table>\n",
              "<p>32754 rows × 7 columns</p>\n",
              "</div>\n",
              "      <button class=\"colab-df-convert\" onclick=\"convertToInteractive('df-86b9f93c-335b-4045-9f64-ff7c13182776')\"\n",
              "              title=\"Convert this dataframe to an interactive table.\"\n",
              "              style=\"display:none;\">\n",
              "        \n",
              "  <svg xmlns=\"http://www.w3.org/2000/svg\" height=\"24px\"viewBox=\"0 0 24 24\"\n",
              "       width=\"24px\">\n",
              "    <path d=\"M0 0h24v24H0V0z\" fill=\"none\"/>\n",
              "    <path d=\"M18.56 5.44l.94 2.06.94-2.06 2.06-.94-2.06-.94-.94-2.06-.94 2.06-2.06.94zm-11 1L8.5 8.5l.94-2.06 2.06-.94-2.06-.94L8.5 2.5l-.94 2.06-2.06.94zm10 10l.94 2.06.94-2.06 2.06-.94-2.06-.94-.94-2.06-.94 2.06-2.06.94z\"/><path d=\"M17.41 7.96l-1.37-1.37c-.4-.4-.92-.59-1.43-.59-.52 0-1.04.2-1.43.59L10.3 9.45l-7.72 7.72c-.78.78-.78 2.05 0 2.83L4 21.41c.39.39.9.59 1.41.59.51 0 1.02-.2 1.41-.59l7.78-7.78 2.81-2.81c.8-.78.8-2.07 0-2.86zM5.41 20L4 18.59l7.72-7.72 1.47 1.35L5.41 20z\"/>\n",
              "  </svg>\n",
              "      </button>\n",
              "      \n",
              "  <style>\n",
              "    .colab-df-container {\n",
              "      display:flex;\n",
              "      flex-wrap:wrap;\n",
              "      gap: 12px;\n",
              "    }\n",
              "\n",
              "    .colab-df-convert {\n",
              "      background-color: #E8F0FE;\n",
              "      border: none;\n",
              "      border-radius: 50%;\n",
              "      cursor: pointer;\n",
              "      display: none;\n",
              "      fill: #1967D2;\n",
              "      height: 32px;\n",
              "      padding: 0 0 0 0;\n",
              "      width: 32px;\n",
              "    }\n",
              "\n",
              "    .colab-df-convert:hover {\n",
              "      background-color: #E2EBFA;\n",
              "      box-shadow: 0px 1px 2px rgba(60, 64, 67, 0.3), 0px 1px 3px 1px rgba(60, 64, 67, 0.15);\n",
              "      fill: #174EA6;\n",
              "    }\n",
              "\n",
              "    [theme=dark] .colab-df-convert {\n",
              "      background-color: #3B4455;\n",
              "      fill: #D2E3FC;\n",
              "    }\n",
              "\n",
              "    [theme=dark] .colab-df-convert:hover {\n",
              "      background-color: #434B5C;\n",
              "      box-shadow: 0px 1px 3px 1px rgba(0, 0, 0, 0.15);\n",
              "      filter: drop-shadow(0px 1px 2px rgba(0, 0, 0, 0.3));\n",
              "      fill: #FFFFFF;\n",
              "    }\n",
              "  </style>\n",
              "\n",
              "      <script>\n",
              "        const buttonEl =\n",
              "          document.querySelector('#df-86b9f93c-335b-4045-9f64-ff7c13182776 button.colab-df-convert');\n",
              "        buttonEl.style.display =\n",
              "          google.colab.kernel.accessAllowed ? 'block' : 'none';\n",
              "\n",
              "        async function convertToInteractive(key) {\n",
              "          const element = document.querySelector('#df-86b9f93c-335b-4045-9f64-ff7c13182776');\n",
              "          const dataTable =\n",
              "            await google.colab.kernel.invokeFunction('convertToInteractive',\n",
              "                                                     [key], {});\n",
              "          if (!dataTable) return;\n",
              "\n",
              "          const docLinkHtml = 'Like what you see? Visit the ' +\n",
              "            '<a target=\"_blank\" href=https://colab.research.google.com/notebooks/data_table.ipynb>data table notebook</a>'\n",
              "            + ' to learn more about interactive tables.';\n",
              "          element.innerHTML = '';\n",
              "          dataTable['output_type'] = 'display_data';\n",
              "          await google.colab.output.renderOutput(dataTable, element);\n",
              "          const docLink = document.createElement('div');\n",
              "          docLink.innerHTML = docLinkHtml;\n",
              "          element.appendChild(docLink);\n",
              "        }\n",
              "      </script>\n",
              "    </div>\n",
              "  </div>\n",
              "  "
            ]
          },
          "metadata": {},
          "execution_count": 10
        }
      ]
    },
    {
      "cell_type": "markdown",
      "source": [
        "we r plotting the data in pie chart.percentage score is maintained\n",
        "\n",
        "\n",
        "\n",
        "**VISUALIZE** **DATA**"
      ],
      "metadata": {
        "id": "udAydETHI4eN"
      }
    },
    {
      "cell_type": "code",
      "source": [
        "#take data from creation source column\n",
        "source= data.groupby(['creation_source']).size()\n",
        "source = source.to_frame(name = 'size').reset_index()\n",
        "\n",
        "#plot using pie chart\n",
        "y = np.array(source['size'])\n",
        "label = np.array(source['creation_source'])\n",
        "\n",
        "plt.pie(y, labels =label, autopct='%1.0f%%')\n",
        "plt.show()"
      ],
      "metadata": {
        "colab": {
          "base_uri": "https://localhost:8080/",
          "height": 248
        },
        "id": "_v2F5u8B8A_W",
        "outputId": "306d1ad3-690e-4da7-e318-565ea72d10fb"
      },
      "execution_count": 11,
      "outputs": [
        {
          "output_type": "display_data",
          "data": {
            "text/plain": [
              "<Figure size 432x288 with 1 Axes>"
            ],
            "image/png": "[encoded data removed]"
          },
          "metadata": {}
        }
      ]
    },
    {
      "cell_type": "markdown",
      "source": [
        "group_by id done with user id and org id \n",
        "\n"
      ],
      "metadata": {
        "id": "MSIzYzLaJUIF"
      }
    },
    {
      "cell_type": "code",
      "source": [
        "#Group user id and ord id\n",
        "df2 = more_three\n",
        "df2 = df2.groupby(['user_id','org_id']).size()\n",
        "df2 = df2.to_frame(name = 'total_visit').reset_index()\n",
        "df2"
      ],
      "metadata": {
        "colab": {
          "base_uri": "https://localhost:8080/",
          "height": 424
        },
        "id": "aodGIAEe_Hqu",
        "outputId": "53d5e21b-aaf2-422b-fd8c-404a0ede7f90"
      },
      "execution_count": 15,
      "outputs": [
        {
          "output_type": "execute_result",
          "data": {
            "text/plain": [
              "      user_id  org_id  total_visit\n",
              "0           2       1            1\n",
              "1          10     318           51\n",
              "2          20      58            1\n",
              "3          33     401            1\n",
              "4          42     235           66\n",
              "...       ...     ...          ...\n",
              "1411    11965      65            1\n",
              "1412    11967      15            7\n",
              "1413    11969      52           21\n",
              "1414    11975      31           43\n",
              "1415    11988     114            4\n",
              "\n",
              "[1416 rows x 3 columns]"
            ],
            "text/html": [
              "\n",
              "  <div id=\"df-37943a97-80f8-4fbd-9d59-2dedef2701f5\">\n",
              "    <div class=\"colab-df-container\">\n",
              "      <div>\n",
              "<style scoped>\n",
              "    .dataframe tbody tr th:only-of-type {\n",
              "        vertical-align: middle;\n",
              "    }\n",
              "\n",
              "    .dataframe tbody tr th {\n",
              "        vertical-align: top;\n",
              "    }\n",
              "\n",
              "    .dataframe thead th {\n",
              "        text-align: right;\n",
              "    }\n",
              "</style>\n",
              "<table border=\"1\" class=\"dataframe\">\n",
              "  <thead>\n",
              "    <tr style=\"text-align: right;\">\n",
              "      <th></th>\n",
              "      <th>user_id</th>\n",
              "      <th>org_id</th>\n",
              "      <th>total_visit</th>\n",
              "    </tr>\n",
              "  </thead>\n",
              "  <tbody>\n",
              "    <tr>\n",
              "      <th>0</th>\n",
              "      <td>2</td>\n",
              "      <td>1</td>\n",
              "      <td>1</td>\n",
              "    </tr>\n",
              "    <tr>\n",
              "      <th>1</th>\n",
              "      <td>10</td>\n",
              "      <td>318</td>\n",
              "      <td>51</td>\n",
              "    </tr>\n",
              "    <tr>\n",
              "      <th>2</th>\n",
              "      <td>20</td>\n",
              "      <td>58</td>\n",
              "      <td>1</td>\n",
              "    </tr>\n",
              "    <tr>\n",
              "      <th>3</th>\n",
              "      <td>33</td>\n",
              "      <td>401</td>\n",
              "      <td>1</td>\n",
              "    </tr>\n",
              "    <tr>\n",
              "      <th>4</th>\n",
              "      <td>42</td>\n",
              "      <td>235</td>\n",
              "      <td>66</td>\n",
              "    </tr>\n",
              "    <tr>\n",
              "      <th>...</th>\n",
              "      <td>...</td>\n",
              "      <td>...</td>\n",
              "      <td>...</td>\n",
              "    </tr>\n",
              "    <tr>\n",
              "      <th>1411</th>\n",
              "      <td>11965</td>\n",
              "      <td>65</td>\n",
              "      <td>1</td>\n",
              "    </tr>\n",
              "    <tr>\n",
              "      <th>1412</th>\n",
              "      <td>11967</td>\n",
              "      <td>15</td>\n",
              "      <td>7</td>\n",
              "    </tr>\n",
              "    <tr>\n",
              "      <th>1413</th>\n",
              "      <td>11969</td>\n",
              "      <td>52</td>\n",
              "      <td>21</td>\n",
              "    </tr>\n",
              "    <tr>\n",
              "      <th>1414</th>\n",
              "      <td>11975</td>\n",
              "      <td>31</td>\n",
              "      <td>43</td>\n",
              "    </tr>\n",
              "    <tr>\n",
              "      <th>1415</th>\n",
              "      <td>11988</td>\n",
              "      <td>114</td>\n",
              "      <td>4</td>\n",
              "    </tr>\n",
              "  </tbody>\n",
              "</table>\n",
              "<p>1416 rows × 3 columns</p>\n",
              "</div>\n",
              "      <button class=\"colab-df-convert\" onclick=\"convertToInteractive('df-37943a97-80f8-4fbd-9d59-2dedef2701f5')\"\n",
              "              title=\"Convert this dataframe to an interactive table.\"\n",
              "              style=\"display:none;\">\n",
              "        \n",
              "  <svg xmlns=\"http://www.w3.org/2000/svg\" height=\"24px\"viewBox=\"0 0 24 24\"\n",
              "       width=\"24px\">\n",
              "    <path d=\"M0 0h24v24H0V0z\" fill=\"none\"/>\n",
              "    <path d=\"M18.56 5.44l.94 2.06.94-2.06 2.06-.94-2.06-.94-.94-2.06-.94 2.06-2.06.94zm-11 1L8.5 8.5l.94-2.06 2.06-.94-2.06-.94L8.5 2.5l-.94 2.06-2.06.94zm10 10l.94 2.06.94-2.06 2.06-.94-2.06-.94-.94-2.06-.94 2.06-2.06.94z\"/><path d=\"M17.41 7.96l-1.37-1.37c-.4-.4-.92-.59-1.43-.59-.52 0-1.04.2-1.43.59L10.3 9.45l-7.72 7.72c-.78.78-.78 2.05 0 2.83L4 21.41c.39.39.9.59 1.41.59.51 0 1.02-.2 1.41-.59l7.78-7.78 2.81-2.81c.8-.78.8-2.07 0-2.86zM5.41 20L4 18.59l7.72-7.72 1.47 1.35L5.41 20z\"/>\n",
              "  </svg>\n",
              "      </button>\n",
              "      \n",
              "  <style>\n",
              "    .colab-df-container {\n",
              "      display:flex;\n",
              "      flex-wrap:wrap;\n",
              "      gap: 12px;\n",
              "    }\n",
              "\n",
              "    .colab-df-convert {\n",
              "      background-color: #E8F0FE;\n",
              "      border: none;\n",
              "      border-radius: 50%;\n",
              "      cursor: pointer;\n",
              "      display: none;\n",
              "      fill: #1967D2;\n",
              "      height: 32px;\n",
              "      padding: 0 0 0 0;\n",
              "      width: 32px;\n",
              "    }\n",
              "\n",
              "    .colab-df-convert:hover {\n",
              "      background-color: #E2EBFA;\n",
              "      box-shadow: 0px 1px 2px rgba(60, 64, 67, 0.3), 0px 1px 3px 1px rgba(60, 64, 67, 0.15);\n",
              "      fill: #174EA6;\n",
              "    }\n",
              "\n",
              "    [theme=dark] .colab-df-convert {\n",
              "      background-color: #3B4455;\n",
              "      fill: #D2E3FC;\n",
              "    }\n",
              "\n",
              "    [theme=dark] .colab-df-convert:hover {\n",
              "      background-color: #434B5C;\n",
              "      box-shadow: 0px 1px 3px 1px rgba(0, 0, 0, 0.15);\n",
              "      filter: drop-shadow(0px 1px 2px rgba(0, 0, 0, 0.3));\n",
              "      fill: #FFFFFF;\n",
              "    }\n",
              "  </style>\n",
              "\n",
              "      <script>\n",
              "        const buttonEl =\n",
              "          document.querySelector('#df-37943a97-80f8-4fbd-9d59-2dedef2701f5 button.colab-df-convert');\n",
              "        buttonEl.style.display =\n",
              "          google.colab.kernel.accessAllowed ? 'block' : 'none';\n",
              "\n",
              "        async function convertToInteractive(key) {\n",
              "          const element = document.querySelector('#df-37943a97-80f8-4fbd-9d59-2dedef2701f5');\n",
              "          const dataTable =\n",
              "            await google.colab.kernel.invokeFunction('convertToInteractive',\n",
              "                                                     [key], {});\n",
              "          if (!dataTable) return;\n",
              "\n",
              "          const docLinkHtml = 'Like what you see? Visit the ' +\n",
              "            '<a target=\"_blank\" href=https://colab.research.google.com/notebooks/data_table.ipynb>data table notebook</a>'\n",
              "            + ' to learn more about interactive tables.';\n",
              "          element.innerHTML = '';\n",
              "          dataTable['output_type'] = 'display_data';\n",
              "          await google.colab.output.renderOutput(dataTable, element);\n",
              "          const docLink = document.createElement('div');\n",
              "          docLink.innerHTML = docLinkHtml;\n",
              "          element.appendChild(docLink);\n",
              "        }\n",
              "      </script>\n",
              "    </div>\n",
              "  </div>\n",
              "  "
            ]
          },
          "metadata": {},
          "execution_count": 15
        }
      ]
    },
    {
      "cell_type": "code",
      "source": [
        "#Filtering top 25% of users and their login counts\n",
        "top= df2[df2['total_visit'] >=75]\n",
        "top.shape"
      ],
      "metadata": {
        "colab": {
          "base_uri": "https://localhost:8080/"
        },
        "id": "8-JCbh8i_2qi",
        "outputId": "203c5073-00d2-480e-fc8e-d1faa3ff9eac"
      },
      "execution_count": 29,
      "outputs": [
        {
          "output_type": "execute_result",
          "data": {
            "text/plain": [
              "(62, 3)"
            ]
          },
          "metadata": {},
          "execution_count": 29
        }
      ]
    },
    {
      "cell_type": "markdown",
      "source": [
        "we r using bar plot to show up the top users with login counts"
      ],
      "metadata": {
        "id": "4VeLMsM6RtKb"
      }
    },
    {
      "cell_type": "code",
      "source": [
        "#Bar chart which shows Top users and their login counts\n",
        "top.plot.bar(x='user_id', y='total_visit', figsize=(30,10), title=\"Top users and their login counts\")\n",
        "plt.show()"
      ],
      "metadata": {
        "colab": {
          "base_uri": "https://localhost:8080/",
          "height": 534
        },
        "id": "hTnew6fRABRq",
        "outputId": "5c47b30a-e61c-4f9a-b3b4-fb7e2bee0e6f"
      },
      "execution_count": 19,
      "outputs": [
        {
          "output_type": "display_data",
          "data": {
            "text/plain": [
              "<Figure size 2160x720 with 1 Axes>"
            ],
            "image/png": "[encoded data removed]"
          },
          "metadata": {
            "needs_background": "light"
          }
        }
      ]
    },
    {
      "cell_type": "markdown",
      "source": [
        "merging top users and creative source and we r visualizing data with pie chart"
      ],
      "metadata": {
        "id": "q1HRD553R-mr"
      }
    },
    {
      "cell_type": "code",
      "source": [
        "#Merging the actual data with the top user's data \n",
        "top_users= pd.merge(data,top,  left_on='object_id' , right_on='user_id')\n",
        "\n",
        "cnt= top_users.groupby(['creation_source']).size()\n",
        "cnt=cnt.to_frame(name='size').reset_index()\n",
        "\n",
        "#Pie chart which shows the user adoption in top users\n",
        "y=np.array(cnt['size'])\n",
        "label=np.array(cnt['creation_source'])\n",
        "\n",
        "plt.pie(y, labels= label, autopct='%1.0f%%')\n",
        "plt.show()"
      ],
      "metadata": {
        "colab": {
          "base_uri": "https://localhost:8080/",
          "height": 248
        },
        "id": "-FEEYGPHAIJ1",
        "outputId": "0a18f309-7ee9-4983-b2d0-b83536f06c65"
      },
      "execution_count": 22,
      "outputs": [
        {
          "output_type": "display_data",
          "data": {
            "text/plain": [
              "<Figure size 432x288 with 1 Axes>"
            ],
            "image/png": "[encoded data removed]"
          },
          "metadata": {}
        }
      ]
    },
    {
      "cell_type": "markdown",
      "source": [
        "In this we can predict that the features org_invite and guest invite\n",
        "play the most important role to predict the features\n",
        "with higher percentage."
      ],
      "metadata": {
        "id": "ECwi3ygrAwn7"
      }
    }
  ]
}